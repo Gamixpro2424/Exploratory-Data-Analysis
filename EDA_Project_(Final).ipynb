{
  "cells": [
    {
      "cell_type": "markdown",
      "metadata": {
        "id": "VOT7iM_wY1kb"
      },
      "source": [
        "**Exploratory Data Analysis** (EDA) using **Daily Climate in Delhi Dataset**\n",
        "\n",
        "\n",
        "\n"
      ]
    },
    {
      "cell_type": "code",
      "execution_count": 1,
      "metadata": {
        "colab": {
          "base_uri": "https://localhost:8080/",
          "height": 423
        },
        "id": "iYLmN0UxeaHP",
        "outputId": "08510083-b98c-4183-8601-21a731388914"
      },
      "outputs": [
        {
          "data": {
            "text/html": [
              "<div>\n",
              "<style scoped>\n",
              "    .dataframe tbody tr th:only-of-type {\n",
              "        vertical-align: middle;\n",
              "    }\n",
              "\n",
              "    .dataframe tbody tr th {\n",
              "        vertical-align: top;\n",
              "    }\n",
              "\n",
              "    .dataframe thead th {\n",
              "        text-align: right;\n",
              "    }\n",
              "</style>\n",
              "<table border=\"1\" class=\"dataframe\">\n",
              "  <thead>\n",
              "    <tr style=\"text-align: right;\">\n",
              "      <th></th>\n",
              "      <th>date</th>\n",
              "      <th>meantemp</th>\n",
              "      <th>humidity</th>\n",
              "      <th>wind_speed</th>\n",
              "      <th>meanpressure</th>\n",
              "    </tr>\n",
              "  </thead>\n",
              "  <tbody>\n",
              "    <tr>\n",
              "      <th>0</th>\n",
              "      <td>2017-01-01</td>\n",
              "      <td>15.913043</td>\n",
              "      <td>85.869565</td>\n",
              "      <td>2.743478</td>\n",
              "      <td>59.000000</td>\n",
              "    </tr>\n",
              "    <tr>\n",
              "      <th>1</th>\n",
              "      <td>2017-01-02</td>\n",
              "      <td>18.500000</td>\n",
              "      <td>77.222222</td>\n",
              "      <td>2.894444</td>\n",
              "      <td>1018.277778</td>\n",
              "    </tr>\n",
              "    <tr>\n",
              "      <th>2</th>\n",
              "      <td>2017-01-03</td>\n",
              "      <td>17.111111</td>\n",
              "      <td>81.888889</td>\n",
              "      <td>4.016667</td>\n",
              "      <td>1018.333333</td>\n",
              "    </tr>\n",
              "    <tr>\n",
              "      <th>3</th>\n",
              "      <td>2017-01-04</td>\n",
              "      <td>18.700000</td>\n",
              "      <td>70.050000</td>\n",
              "      <td>4.545000</td>\n",
              "      <td>1015.700000</td>\n",
              "    </tr>\n",
              "    <tr>\n",
              "      <th>4</th>\n",
              "      <td>2017-01-05</td>\n",
              "      <td>18.388889</td>\n",
              "      <td>74.944444</td>\n",
              "      <td>3.300000</td>\n",
              "      <td>1014.333333</td>\n",
              "    </tr>\n",
              "    <tr>\n",
              "      <th>...</th>\n",
              "      <td>...</td>\n",
              "      <td>...</td>\n",
              "      <td>...</td>\n",
              "      <td>...</td>\n",
              "      <td>...</td>\n",
              "    </tr>\n",
              "    <tr>\n",
              "      <th>109</th>\n",
              "      <td>2017-04-20</td>\n",
              "      <td>34.500000</td>\n",
              "      <td>27.500000</td>\n",
              "      <td>5.562500</td>\n",
              "      <td>998.625000</td>\n",
              "    </tr>\n",
              "    <tr>\n",
              "      <th>110</th>\n",
              "      <td>2017-04-21</td>\n",
              "      <td>34.250000</td>\n",
              "      <td>39.375000</td>\n",
              "      <td>6.962500</td>\n",
              "      <td>999.875000</td>\n",
              "    </tr>\n",
              "    <tr>\n",
              "      <th>111</th>\n",
              "      <td>2017-04-22</td>\n",
              "      <td>32.900000</td>\n",
              "      <td>40.900000</td>\n",
              "      <td>8.890000</td>\n",
              "      <td>1001.600000</td>\n",
              "    </tr>\n",
              "    <tr>\n",
              "      <th>112</th>\n",
              "      <td>2017-04-23</td>\n",
              "      <td>32.875000</td>\n",
              "      <td>27.500000</td>\n",
              "      <td>9.962500</td>\n",
              "      <td>1002.125000</td>\n",
              "    </tr>\n",
              "    <tr>\n",
              "      <th>113</th>\n",
              "      <td>2017-04-24</td>\n",
              "      <td>32.000000</td>\n",
              "      <td>27.142857</td>\n",
              "      <td>12.157143</td>\n",
              "      <td>1004.142857</td>\n",
              "    </tr>\n",
              "  </tbody>\n",
              "</table>\n",
              "<p>114 rows × 5 columns</p>\n",
              "</div>"
            ],
            "text/plain": [
              "           date   meantemp   humidity  wind_speed  meanpressure\n",
              "0    2017-01-01  15.913043  85.869565    2.743478     59.000000\n",
              "1    2017-01-02  18.500000  77.222222    2.894444   1018.277778\n",
              "2    2017-01-03  17.111111  81.888889    4.016667   1018.333333\n",
              "3    2017-01-04  18.700000  70.050000    4.545000   1015.700000\n",
              "4    2017-01-05  18.388889  74.944444    3.300000   1014.333333\n",
              "..          ...        ...        ...         ...           ...\n",
              "109  2017-04-20  34.500000  27.500000    5.562500    998.625000\n",
              "110  2017-04-21  34.250000  39.375000    6.962500    999.875000\n",
              "111  2017-04-22  32.900000  40.900000    8.890000   1001.600000\n",
              "112  2017-04-23  32.875000  27.500000    9.962500   1002.125000\n",
              "113  2017-04-24  32.000000  27.142857   12.157143   1004.142857\n",
              "\n",
              "[114 rows x 5 columns]"
            ]
          },
          "execution_count": 1,
          "metadata": {},
          "output_type": "execute_result"
        }
      ],
      "source": [
        "import pandas as pd\n",
        "df= pd.read_csv('https://raw.githubusercontent.com/TherealMariaLijoevin/EDAProject/main/DailyDelhiClimateTest.csv')\n",
        "df"
      ]
    },
    {
      "cell_type": "code",
      "execution_count": 37,
      "metadata": {
        "colab": {
          "base_uri": "https://localhost:8080/"
        },
        "id": "PFX7MA0NBEdg",
        "outputId": "d993ddda-733c-4ec3-9315-d125da41a514"
      },
      "outputs": [
        {
          "data": {
            "text/plain": [
              "array([[85.86956522],\n",
              "       [77.22222222],\n",
              "       [81.88888889],\n",
              "       [70.05      ],\n",
              "       [74.94444444],\n",
              "       [79.31818182],\n",
              "       [95.83333333],\n",
              "       [83.52631579],\n",
              "       [80.80952381],\n",
              "       [71.94444444],\n",
              "       [72.11111111],\n",
              "       [74.57894737],\n",
              "       [67.05882353],\n",
              "       [74.28      ],\n",
              "       [72.56521739],\n",
              "       [78.45      ],\n",
              "       [84.44444444],\n",
              "       [78.33333333],\n",
              "       [75.14285714],\n",
              "       [66.47368421],\n",
              "       [70.86956522],\n",
              "       [76.24      ],\n",
              "       [76.        ],\n",
              "       [68.13043478],\n",
              "       [69.96      ],\n",
              "       [91.64285714],\n",
              "       [77.04166667],\n",
              "       [82.77272727],\n",
              "       [81.77777778],\n",
              "       [77.55555556],\n",
              "       [76.        ],\n",
              "       [78.625     ],\n",
              "       [66.54545455],\n",
              "       [78.18181818],\n",
              "       [77.6       ],\n",
              "       [77.63157895],\n",
              "       [69.66666667],\n",
              "       [63.75      ],\n",
              "       [68.4       ],\n",
              "       [68.375     ],\n",
              "       [71.77777778],\n",
              "       [64.        ],\n",
              "       [70.375     ],\n",
              "       [67.        ],\n",
              "       [65.5       ],\n",
              "       [67.71428571],\n",
              "       [56.75      ],\n",
              "       [64.4       ],\n",
              "       [70.75      ],\n",
              "       [66.09090909],\n",
              "       [60.125     ],\n",
              "       [69.41666667],\n",
              "       [57.125     ],\n",
              "       [42.875     ],\n",
              "       [40.375     ],\n",
              "       [50.42857143],\n",
              "       [59.        ],\n",
              "       [58.375     ],\n",
              "       [51.66666667],\n",
              "       [47.92307692],\n",
              "       [54.25      ],\n",
              "       [42.5       ],\n",
              "       [43.125     ],\n",
              "       [41.25      ],\n",
              "       [42.44444444],\n",
              "       [41.5       ],\n",
              "       [52.72727273],\n",
              "       [69.07142857],\n",
              "       [67.75      ],\n",
              "       [60.4       ],\n",
              "       [56.625     ],\n",
              "       [49.33333333],\n",
              "       [56.33333333],\n",
              "       [54.75      ],\n",
              "       [49.2       ],\n",
              "       [59.7       ],\n",
              "       [46.30769231],\n",
              "       [52.27777778],\n",
              "       [54.66666667],\n",
              "       [49.        ],\n",
              "       [45.        ],\n",
              "       [49.75      ],\n",
              "       [37.66666667],\n",
              "       [39.375     ],\n",
              "       [37.1       ],\n",
              "       [38.625     ],\n",
              "       [40.66666667],\n",
              "       [34.5       ],\n",
              "       [36.85714286],\n",
              "       [37.625     ],\n",
              "       [35.125     ],\n",
              "       [33.75      ],\n",
              "       [29.75      ],\n",
              "       [31.86666667],\n",
              "       [46.        ],\n",
              "       [26.        ],\n",
              "       [29.875     ],\n",
              "       [29.375     ],\n",
              "       [21.125     ],\n",
              "       [19.42857143],\n",
              "       [17.75      ],\n",
              "       [26.        ],\n",
              "       [29.11111111],\n",
              "       [37.625     ],\n",
              "       [30.44444444],\n",
              "       [34.25      ],\n",
              "       [38.44444444],\n",
              "       [27.33333333],\n",
              "       [24.125     ],\n",
              "       [27.5       ],\n",
              "       [39.375     ],\n",
              "       [40.9       ],\n",
              "       [27.5       ],\n",
              "       [27.14285714]])"
            ]
          },
          "execution_count": 37,
          "metadata": {},
          "output_type": "execute_result"
        }
      ],
      "source": [
        "x = df.iloc[0:,2:3].values\n",
        "x\n"
      ]
    },
    {
      "cell_type": "code",
      "execution_count": 3,
      "metadata": {
        "colab": {
          "base_uri": "https://localhost:8080/"
        },
        "id": "fFmqwcoDBMTp",
        "outputId": "d4685398-4066-403a-f2bd-4db96388c9a7"
      },
      "outputs": [
        {
          "data": {
            "text/plain": [
              "array([[15.91304348],\n",
              "       [18.5       ],\n",
              "       [17.11111111],\n",
              "       [18.7       ],\n",
              "       [18.38888889],\n",
              "       [19.31818182],\n",
              "       [14.70833333],\n",
              "       [15.68421053],\n",
              "       [14.57142857],\n",
              "       [12.11111111],\n",
              "       [11.        ],\n",
              "       [11.78947368],\n",
              "       [13.23529412],\n",
              "       [13.2       ],\n",
              "       [16.43478261],\n",
              "       [14.65      ],\n",
              "       [11.72222222],\n",
              "       [13.04166667],\n",
              "       [14.61904762],\n",
              "       [15.26315789],\n",
              "       [15.39130435],\n",
              "       [18.44      ],\n",
              "       [18.11764706],\n",
              "       [18.34782609],\n",
              "       [21.        ],\n",
              "       [16.17857143],\n",
              "       [16.5       ],\n",
              "       [14.86363636],\n",
              "       [15.66666667],\n",
              "       [16.44444444],\n",
              "       [16.125     ],\n",
              "       [15.25      ],\n",
              "       [17.09090909],\n",
              "       [15.63636364],\n",
              "       [18.7       ],\n",
              "       [18.63157895],\n",
              "       [16.88888889],\n",
              "       [15.125     ],\n",
              "       [15.7       ],\n",
              "       [15.375     ],\n",
              "       [14.66666667],\n",
              "       [15.625     ],\n",
              "       [16.25      ],\n",
              "       [16.33333333],\n",
              "       [16.875     ],\n",
              "       [17.57142857],\n",
              "       [20.25      ],\n",
              "       [21.3       ],\n",
              "       [21.125     ],\n",
              "       [22.36363636],\n",
              "       [23.375     ],\n",
              "       [21.83333333],\n",
              "       [19.125     ],\n",
              "       [18.625     ],\n",
              "       [19.125     ],\n",
              "       [19.        ],\n",
              "       [18.75      ],\n",
              "       [19.875     ],\n",
              "       [23.33333333],\n",
              "       [24.46153846],\n",
              "       [23.75      ],\n",
              "       [20.5       ],\n",
              "       [19.125     ],\n",
              "       [19.75      ],\n",
              "       [20.        ],\n",
              "       [22.625     ],\n",
              "       [21.54545455],\n",
              "       [20.78571429],\n",
              "       [19.9375    ],\n",
              "       [18.53333333],\n",
              "       [17.375     ],\n",
              "       [17.44444444],\n",
              "       [18.        ],\n",
              "       [19.875     ],\n",
              "       [24.        ],\n",
              "       [20.9       ],\n",
              "       [24.69230769],\n",
              "       [24.66666667],\n",
              "       [23.33333333],\n",
              "       [25.        ],\n",
              "       [27.25      ],\n",
              "       [28.        ],\n",
              "       [28.91666667],\n",
              "       [26.5       ],\n",
              "       [29.1       ],\n",
              "       [29.5       ],\n",
              "       [29.88888889],\n",
              "       [31.        ],\n",
              "       [29.28571429],\n",
              "       [30.625     ],\n",
              "       [31.375     ],\n",
              "       [29.75      ],\n",
              "       [30.5       ],\n",
              "       [30.93333333],\n",
              "       [29.23076923],\n",
              "       [31.22222222],\n",
              "       [27.        ],\n",
              "       [25.625     ],\n",
              "       [27.125     ],\n",
              "       [27.85714286],\n",
              "       [29.25      ],\n",
              "       [29.25      ],\n",
              "       [29.66666667],\n",
              "       [30.5       ],\n",
              "       [31.22222222],\n",
              "       [31.        ],\n",
              "       [32.55555556],\n",
              "       [34.        ],\n",
              "       [33.5       ],\n",
              "       [34.5       ],\n",
              "       [34.25      ],\n",
              "       [32.9       ],\n",
              "       [32.875     ],\n",
              "       [32.        ]])"
            ]
          },
          "execution_count": 3,
          "metadata": {},
          "output_type": "execute_result"
        }
      ],
      "source": [
        "y = df.iloc[0:,1:2].values\n",
        "y"
      ]
    },
    {
      "cell_type": "code",
      "execution_count": 4,
      "metadata": {
        "colab": {
          "base_uri": "https://localhost:8080/"
        },
        "id": "FWING59MfAwf",
        "outputId": "13d9b4e8-bf72-441f-d4f0-810bd1b80499"
      },
      "outputs": [
        {
          "data": {
            "text/plain": [
              "(114, 5)"
            ]
          },
          "execution_count": 4,
          "metadata": {},
          "output_type": "execute_result"
        }
      ],
      "source": [
        "df.shape"
      ]
    },
    {
      "cell_type": "code",
      "execution_count": 5,
      "metadata": {
        "colab": {
          "base_uri": "https://localhost:8080/"
        },
        "id": "J_vWuNkvfC0-",
        "outputId": "7b257d6c-32f1-4ccf-f297-6aaf6450608c"
      },
      "outputs": [
        {
          "data": {
            "text/plain": [
              "570"
            ]
          },
          "execution_count": 5,
          "metadata": {},
          "output_type": "execute_result"
        }
      ],
      "source": [
        "df.size"
      ]
    },
    {
      "cell_type": "code",
      "execution_count": 6,
      "metadata": {
        "colab": {
          "base_uri": "https://localhost:8080/"
        },
        "id": "kRbvkocXfEgO",
        "outputId": "357bc3fa-9f2d-4a83-f6bf-4bb7b0238474"
      },
      "outputs": [
        {
          "data": {
            "text/plain": [
              "<bound method DataFrame.info of            date   meantemp   humidity  wind_speed  meanpressure\n",
              "0    2017-01-01  15.913043  85.869565    2.743478     59.000000\n",
              "1    2017-01-02  18.500000  77.222222    2.894444   1018.277778\n",
              "2    2017-01-03  17.111111  81.888889    4.016667   1018.333333\n",
              "3    2017-01-04  18.700000  70.050000    4.545000   1015.700000\n",
              "4    2017-01-05  18.388889  74.944444    3.300000   1014.333333\n",
              "..          ...        ...        ...         ...           ...\n",
              "109  2017-04-20  34.500000  27.500000    5.562500    998.625000\n",
              "110  2017-04-21  34.250000  39.375000    6.962500    999.875000\n",
              "111  2017-04-22  32.900000  40.900000    8.890000   1001.600000\n",
              "112  2017-04-23  32.875000  27.500000    9.962500   1002.125000\n",
              "113  2017-04-24  32.000000  27.142857   12.157143   1004.142857\n",
              "\n",
              "[114 rows x 5 columns]>"
            ]
          },
          "execution_count": 6,
          "metadata": {},
          "output_type": "execute_result"
        }
      ],
      "source": [
        "df.info"
      ]
    },
    {
      "cell_type": "code",
      "execution_count": 7,
      "metadata": {
        "colab": {
          "base_uri": "https://localhost:8080/"
        },
        "id": "ek1PzrxefS4H",
        "outputId": "0f78f3dc-3bab-4509-a11e-9e1feb053853"
      },
      "outputs": [
        {
          "data": {
            "text/plain": [
              "105"
            ]
          },
          "execution_count": 7,
          "metadata": {},
          "output_type": "execute_result"
        }
      ],
      "source": [
        "df['meantemp'].nunique()"
      ]
    },
    {
      "cell_type": "code",
      "execution_count": 8,
      "metadata": {
        "colab": {
          "base_uri": "https://localhost:8080/"
        },
        "id": "WnUm-adMgAeR",
        "outputId": "42bf9a02-0bcf-4441-c7fb-f520fbd77e4c"
      },
      "outputs": [
        {
          "data": {
            "text/plain": [
              "array([15.91304348, 18.5       , 17.11111111, 18.7       , 18.38888889,\n",
              "       19.31818182, 14.70833333, 15.68421053, 14.57142857, 12.11111111,\n",
              "       11.        , 11.78947368, 13.23529412, 13.2       , 16.43478261,\n",
              "       14.65      , 11.72222222, 13.04166667, 14.61904762, 15.26315789,\n",
              "       15.39130435, 18.44      , 18.11764706, 18.34782609, 21.        ,\n",
              "       16.17857143, 16.5       , 14.86363636, 15.66666667, 16.44444444,\n",
              "       16.125     , 15.25      , 17.09090909, 15.63636364, 18.63157895,\n",
              "       16.88888889, 15.125     , 15.7       , 15.375     , 14.66666667,\n",
              "       15.625     , 16.25      , 16.33333333, 16.875     , 17.57142857,\n",
              "       20.25      , 21.3       , 21.125     , 22.36363636, 23.375     ,\n",
              "       21.83333333, 19.125     , 18.625     , 19.        , 18.75      ,\n",
              "       19.875     , 23.33333333, 24.46153846, 23.75      , 20.5       ,\n",
              "       19.75      , 20.        , 22.625     , 21.54545455, 20.78571429,\n",
              "       19.9375    , 18.53333333, 17.375     , 17.44444444, 18.        ,\n",
              "       24.        , 20.9       , 24.69230769, 24.66666667, 25.        ,\n",
              "       27.25      , 28.        , 28.91666667, 26.5       , 29.1       ,\n",
              "       29.5       , 29.88888889, 31.        , 29.28571429, 30.625     ,\n",
              "       31.375     , 29.75      , 30.5       , 30.93333333, 29.23076923,\n",
              "       31.22222222, 27.        , 25.625     , 27.125     , 27.85714286,\n",
              "       29.25      , 29.66666667, 32.55555556, 34.        , 33.5       ,\n",
              "       34.5       , 34.25      , 32.9       , 32.875     , 32.        ])"
            ]
          },
          "execution_count": 8,
          "metadata": {},
          "output_type": "execute_result"
        }
      ],
      "source": [
        "df['meantemp'].unique()"
      ]
    },
    {
      "cell_type": "code",
      "execution_count": 9,
      "metadata": {
        "colab": {
          "base_uri": "https://localhost:8080/"
        },
        "id": "x2NxgQLLgqud",
        "outputId": "c8e2046c-3493-4e61-abc0-efc6d3472442"
      },
      "outputs": [
        {
          "data": {
            "text/plain": [
              "meantemp\n",
              "11.000000    1\n",
              "11.722222    1\n",
              "11.789474    1\n",
              "12.111111    1\n",
              "13.041667    1\n",
              "            ..\n",
              "32.900000    1\n",
              "33.500000    1\n",
              "34.000000    1\n",
              "34.250000    1\n",
              "34.500000    1\n",
              "Length: 105, dtype: int64"
            ]
          },
          "execution_count": 9,
          "metadata": {},
          "output_type": "execute_result"
        }
      ],
      "source": [
        "df.groupby('meantemp').size()"
      ]
    },
    {
      "cell_type": "code",
      "execution_count": 10,
      "metadata": {
        "colab": {
          "base_uri": "https://localhost:8080/"
        },
        "id": "8WFZlUB2g1X9",
        "outputId": "10778b27-d67f-4487-f84e-46839c230459"
      },
      "outputs": [
        {
          "data": {
            "text/plain": [
              "meantemp\n",
              "19.125000    3\n",
              "19.875000    2\n",
              "29.250000    2\n",
              "30.500000    2\n",
              "31.000000    2\n",
              "            ..\n",
              "17.090909    1\n",
              "15.250000    1\n",
              "16.125000    1\n",
              "16.444444    1\n",
              "32.000000    1\n",
              "Name: count, Length: 105, dtype: int64"
            ]
          },
          "execution_count": 10,
          "metadata": {},
          "output_type": "execute_result"
        }
      ],
      "source": [
        "df.meantemp.value_counts()"
      ]
    },
    {
      "cell_type": "markdown",
      "metadata": {},
      "source": [
        "**Visualizing the DataPoints For Better Understanding the Variability**\n",
        "\n"
      ]
    },
    {
      "cell_type": "code",
      "execution_count": 11,
      "metadata": {
        "colab": {
          "base_uri": "https://localhost:8080/",
          "height": 489
        },
        "id": "ZDCt0evCg40y",
        "outputId": "c6e9d30f-cd49-41a6-c39b-8ae40f44c337"
      },
      "outputs": [
        {
          "data": {
            "text/plain": [
              "Text(0, 0.5, 'Humidity')"
            ]
          },
          "execution_count": 11,
          "metadata": {},
          "output_type": "execute_result"
        },
        {
          "data": {
            "image/png": "[encoded data removed]",
            "text/plain": [
              "<Figure size 640x480 with 1 Axes>"
            ]
          },
          "metadata": {},
          "output_type": "display_data"
        }
      ],
      "source": [
        "import matplotlib.pyplot as plt\n",
        "plt.scatter(df['meantemp'],df['humidity'])\n",
        "plt.title('Mean Temperature Vs Humidity')\n",
        "plt.xlabel('Mean Temp')\n",
        "plt.ylabel('Humidity')"
      ]
    },
    {
      "cell_type": "markdown",
      "metadata": {},
      "source": [
        "**Initializing The LinearRegression Model from Scikit learn and Fitting the Input and Output Variables**"
      ]
    },
    {
      "cell_type": "code",
      "execution_count": 12,
      "metadata": {
        "colab": {
          "base_uri": "https://localhost:8080/",
          "height": 74
        },
        "id": "CBHWbd6zn2mb",
        "outputId": "1112a83c-ad0f-4f33-e4d2-03fdc62e0c87"
      },
      "outputs": [],
      "source": [
        "from sklearn.linear_model import LinearRegression\n",
        "from sklearn.model_selection import train_test_split\n",
        "model = LinearRegression()\n",
        "\n"
      ]
    },
    {
      "cell_type": "markdown",
      "metadata": {},
      "source": [
        "**Splitting the Dataset into train and test model**"
      ]
    },
    {
      "cell_type": "code",
      "execution_count": 13,
      "metadata": {},
      "outputs": [],
      "source": [
        "X_train, X_test, Y_train,Y_test = train_test_split(x,y, random_state=42)"
      ]
    },
    {
      "cell_type": "markdown",
      "metadata": {},
      "source": [
        "**Fitting the training data into the model**\n"
      ]
    },
    {
      "cell_type": "code",
      "execution_count": 14,
      "metadata": {},
      "outputs": [
        {
          "data": {
            "text/html": [
              "<style>#sk-container-id-1 {\n",
              "  /* Definition of color scheme common for light and dark mode */\n",
              "  --sklearn-color-text: black;\n",
              "  --sklearn-color-line: gray;\n",
              "  /* Definition of color scheme for unfitted estimators */\n",
              "  --sklearn-color-unfitted-level-0: #fff5e6;\n",
              "  --sklearn-color-unfitted-level-1: #f6e4d2;\n",
              "  --sklearn-color-unfitted-level-2: #ffe0b3;\n",
              "  --sklearn-color-unfitted-level-3: chocolate;\n",
              "  /* Definition of color scheme for fitted estimators */\n",
              "  --sklearn-color-fitted-level-0: #f0f8ff;\n",
              "  --sklearn-color-fitted-level-1: #d4ebff;\n",
              "  --sklearn-color-fitted-level-2: #b3dbfd;\n",
              "  --sklearn-color-fitted-level-3: cornflowerblue;\n",
              "\n",
              "  /* Specific color for light theme */\n",
              "  --sklearn-color-text-on-default-background: var(--sg-text-color, var(--theme-code-foreground, var(--jp-content-font-color1, black)));\n",
              "  --sklearn-color-background: var(--sg-background-color, var(--theme-background, var(--jp-layout-color0, white)));\n",
              "  --sklearn-color-border-box: var(--sg-text-color, var(--theme-code-foreground, var(--jp-content-font-color1, black)));\n",
              "  --sklearn-color-icon: #696969;\n",
              "\n",
              "  @media (prefers-color-scheme: dark) {\n",
              "    /* Redefinition of color scheme for dark theme */\n",
              "    --sklearn-color-text-on-default-background: var(--sg-text-color, var(--theme-code-foreground, var(--jp-content-font-color1, white)));\n",
              "    --sklearn-color-background: var(--sg-background-color, var(--theme-background, var(--jp-layout-color0, #111)));\n",
              "    --sklearn-color-border-box: var(--sg-text-color, var(--theme-code-foreground, var(--jp-content-font-color1, white)));\n",
              "    --sklearn-color-icon: #878787;\n",
              "  }\n",
              "}\n",
              "\n",
              "#sk-container-id-1 {\n",
              "  color: var(--sklearn-color-text);\n",
              "}\n",
              "\n",
              "#sk-container-id-1 pre {\n",
              "  padding: 0;\n",
              "}\n",
              "\n",
              "#sk-container-id-1 input.sk-hidden--visually {\n",
              "  border: 0;\n",
              "  clip: rect(1px 1px 1px 1px);\n",
              "  clip: rect(1px, 1px, 1px, 1px);\n",
              "  height: 1px;\n",
              "  margin: -1px;\n",
              "  overflow: hidden;\n",
              "  padding: 0;\n",
              "  position: absolute;\n",
              "  width: 1px;\n",
              "}\n",
              "\n",
              "#sk-container-id-1 div.sk-dashed-wrapped {\n",
              "  border: 1px dashed var(--sklearn-color-line);\n",
              "  margin: 0 0.4em 0.5em 0.4em;\n",
              "  box-sizing: border-box;\n",
              "  padding-bottom: 0.4em;\n",
              "  background-color: var(--sklearn-color-background);\n",
              "}\n",
              "\n",
              "#sk-container-id-1 div.sk-container {\n",
              "  /* jupyter's `normalize.less` sets `[hidden] { display: none; }`\n",
              "     but bootstrap.min.css set `[hidden] { display: none !important; }`\n",
              "     so we also need the `!important` here to be able to override the\n",
              "     default hidden behavior on the sphinx rendered scikit-learn.org.\n",
              "     See: https://github.com/scikit-learn/scikit-learn/issues/21755 */\n",
              "  display: inline-block !important;\n",
              "  position: relative;\n",
              "}\n",
              "\n",
              "#sk-container-id-1 div.sk-text-repr-fallback {\n",
              "  display: none;\n",
              "}\n",
              "\n",
              "div.sk-parallel-item,\n",
              "div.sk-serial,\n",
              "div.sk-item {\n",
              "  /* draw centered vertical line to link estimators */\n",
              "  background-image: linear-gradient(var(--sklearn-color-text-on-default-background), var(--sklearn-color-text-on-default-background));\n",
              "  background-size: 2px 100%;\n",
              "  background-repeat: no-repeat;\n",
              "  background-position: center center;\n",
              "}\n",
              "\n",
              "/* Parallel-specific style estimator block */\n",
              "\n",
              "#sk-container-id-1 div.sk-parallel-item::after {\n",
              "  content: \"\";\n",
              "  width: 100%;\n",
              "  border-bottom: 2px solid var(--sklearn-color-text-on-default-background);\n",
              "  flex-grow: 1;\n",
              "}\n",
              "\n",
              "#sk-container-id-1 div.sk-parallel {\n",
              "  display: flex;\n",
              "  align-items: stretch;\n",
              "  justify-content: center;\n",
              "  background-color: var(--sklearn-color-background);\n",
              "  position: relative;\n",
              "}\n",
              "\n",
              "#sk-container-id-1 div.sk-parallel-item {\n",
              "  display: flex;\n",
              "  flex-direction: column;\n",
              "}\n",
              "\n",
              "#sk-container-id-1 div.sk-parallel-item:first-child::after {\n",
              "  align-self: flex-end;\n",
              "  width: 50%;\n",
              "}\n",
              "\n",
              "#sk-container-id-1 div.sk-parallel-item:last-child::after {\n",
              "  align-self: flex-start;\n",
              "  width: 50%;\n",
              "}\n",
              "\n",
              "#sk-container-id-1 div.sk-parallel-item:only-child::after {\n",
              "  width: 0;\n",
              "}\n",
              "\n",
              "/* Serial-specific style estimator block */\n",
              "\n",
              "#sk-container-id-1 div.sk-serial {\n",
              "  display: flex;\n",
              "  flex-direction: column;\n",
              "  align-items: center;\n",
              "  background-color: var(--sklearn-color-background);\n",
              "  padding-right: 1em;\n",
              "  padding-left: 1em;\n",
              "}\n",
              "\n",
              "\n",
              "/* Toggleable style: style used for estimator/Pipeline/ColumnTransformer box that is\n",
              "clickable and can be expanded/collapsed.\n",
              "- Pipeline and ColumnTransformer use this feature and define the default style\n",
              "- Estimators will overwrite some part of the style using the `sk-estimator` class\n",
              "*/\n",
              "\n",
              "/* Pipeline and ColumnTransformer style (default) */\n",
              "\n",
              "#sk-container-id-1 div.sk-toggleable {\n",
              "  /* Default theme specific background. It is overwritten whether we have a\n",
              "  specific estimator or a Pipeline/ColumnTransformer */\n",
              "  background-color: var(--sklearn-color-background);\n",
              "}\n",
              "\n",
              "/* Toggleable label */\n",
              "#sk-container-id-1 label.sk-toggleable__label {\n",
              "  cursor: pointer;\n",
              "  display: block;\n",
              "  width: 100%;\n",
              "  margin-bottom: 0;\n",
              "  padding: 0.5em;\n",
              "  box-sizing: border-box;\n",
              "  text-align: center;\n",
              "}\n",
              "\n",
              "#sk-container-id-1 label.sk-toggleable__label-arrow:before {\n",
              "  /* Arrow on the left of the label */\n",
              "  content: \"▸\";\n",
              "  float: left;\n",
              "  margin-right: 0.25em;\n",
              "  color: var(--sklearn-color-icon);\n",
              "}\n",
              "\n",
              "#sk-container-id-1 label.sk-toggleable__label-arrow:hover:before {\n",
              "  color: var(--sklearn-color-text);\n",
              "}\n",
              "\n",
              "/* Toggleable content - dropdown */\n",
              "\n",
              "#sk-container-id-1 div.sk-toggleable__content {\n",
              "  max-height: 0;\n",
              "  max-width: 0;\n",
              "  overflow: hidden;\n",
              "  text-align: left;\n",
              "  /* unfitted */\n",
              "  background-color: var(--sklearn-color-unfitted-level-0);\n",
              "}\n",
              "\n",
              "#sk-container-id-1 div.sk-toggleable__content.fitted {\n",
              "  /* fitted */\n",
              "  background-color: var(--sklearn-color-fitted-level-0);\n",
              "}\n",
              "\n",
              "#sk-container-id-1 div.sk-toggleable__content pre {\n",
              "  margin: 0.2em;\n",
              "  border-radius: 0.25em;\n",
              "  color: var(--sklearn-color-text);\n",
              "  /* unfitted */\n",
              "  background-color: var(--sklearn-color-unfitted-level-0);\n",
              "}\n",
              "\n",
              "#sk-container-id-1 div.sk-toggleable__content.fitted pre {\n",
              "  /* unfitted */\n",
              "  background-color: var(--sklearn-color-fitted-level-0);\n",
              "}\n",
              "\n",
              "#sk-container-id-1 input.sk-toggleable__control:checked~div.sk-toggleable__content {\n",
              "  /* Expand drop-down */\n",
              "  max-height: 200px;\n",
              "  max-width: 100%;\n",
              "  overflow: auto;\n",
              "}\n",
              "\n",
              "#sk-container-id-1 input.sk-toggleable__control:checked~label.sk-toggleable__label-arrow:before {\n",
              "  content: \"▾\";\n",
              "}\n",
              "\n",
              "/* Pipeline/ColumnTransformer-specific style */\n",
              "\n",
              "#sk-container-id-1 div.sk-label input.sk-toggleable__control:checked~label.sk-toggleable__label {\n",
              "  color: var(--sklearn-color-text);\n",
              "  background-color: var(--sklearn-color-unfitted-level-2);\n",
              "}\n",
              "\n",
              "#sk-container-id-1 div.sk-label.fitted input.sk-toggleable__control:checked~label.sk-toggleable__label {\n",
              "  background-color: var(--sklearn-color-fitted-level-2);\n",
              "}\n",
              "\n",
              "/* Estimator-specific style */\n",
              "\n",
              "/* Colorize estimator box */\n",
              "#sk-container-id-1 div.sk-estimator input.sk-toggleable__control:checked~label.sk-toggleable__label {\n",
              "  /* unfitted */\n",
              "  background-color: var(--sklearn-color-unfitted-level-2);\n",
              "}\n",
              "\n",
              "#sk-container-id-1 div.sk-estimator.fitted input.sk-toggleable__control:checked~label.sk-toggleable__label {\n",
              "  /* fitted */\n",
              "  background-color: var(--sklearn-color-fitted-level-2);\n",
              "}\n",
              "\n",
              "#sk-container-id-1 div.sk-label label.sk-toggleable__label,\n",
              "#sk-container-id-1 div.sk-label label {\n",
              "  /* The background is the default theme color */\n",
              "  color: var(--sklearn-color-text-on-default-background);\n",
              "}\n",
              "\n",
              "/* On hover, darken the color of the background */\n",
              "#sk-container-id-1 div.sk-label:hover label.sk-toggleable__label {\n",
              "  color: var(--sklearn-color-text);\n",
              "  background-color: var(--sklearn-color-unfitted-level-2);\n",
              "}\n",
              "\n",
              "/* Label box, darken color on hover, fitted */\n",
              "#sk-container-id-1 div.sk-label.fitted:hover label.sk-toggleable__label.fitted {\n",
              "  color: var(--sklearn-color-text);\n",
              "  background-color: var(--sklearn-color-fitted-level-2);\n",
              "}\n",
              "\n",
              "/* Estimator label */\n",
              "\n",
              "#sk-container-id-1 div.sk-label label {\n",
              "  font-family: monospace;\n",
              "  font-weight: bold;\n",
              "  display: inline-block;\n",
              "  line-height: 1.2em;\n",
              "}\n",
              "\n",
              "#sk-container-id-1 div.sk-label-container {\n",
              "  text-align: center;\n",
              "}\n",
              "\n",
              "/* Estimator-specific */\n",
              "#sk-container-id-1 div.sk-estimator {\n",
              "  font-family: monospace;\n",
              "  border: 1px dotted var(--sklearn-color-border-box);\n",
              "  border-radius: 0.25em;\n",
              "  box-sizing: border-box;\n",
              "  margin-bottom: 0.5em;\n",
              "  /* unfitted */\n",
              "  background-color: var(--sklearn-color-unfitted-level-0);\n",
              "}\n",
              "\n",
              "#sk-container-id-1 div.sk-estimator.fitted {\n",
              "  /* fitted */\n",
              "  background-color: var(--sklearn-color-fitted-level-0);\n",
              "}\n",
              "\n",
              "/* on hover */\n",
              "#sk-container-id-1 div.sk-estimator:hover {\n",
              "  /* unfitted */\n",
              "  background-color: var(--sklearn-color-unfitted-level-2);\n",
              "}\n",
              "\n",
              "#sk-container-id-1 div.sk-estimator.fitted:hover {\n",
              "  /* fitted */\n",
              "  background-color: var(--sklearn-color-fitted-level-2);\n",
              "}\n",
              "\n",
              "/* Specification for estimator info (e.g. \"i\" and \"?\") */\n",
              "\n",
              "/* Common style for \"i\" and \"?\" */\n",
              "\n",
              ".sk-estimator-doc-link,\n",
              "a:link.sk-estimator-doc-link,\n",
              "a:visited.sk-estimator-doc-link {\n",
              "  float: right;\n",
              "  font-size: smaller;\n",
              "  line-height: 1em;\n",
              "  font-family: monospace;\n",
              "  background-color: var(--sklearn-color-background);\n",
              "  border-radius: 1em;\n",
              "  height: 1em;\n",
              "  width: 1em;\n",
              "  text-decoration: none !important;\n",
              "  margin-left: 1ex;\n",
              "  /* unfitted */\n",
              "  border: var(--sklearn-color-unfitted-level-1) 1pt solid;\n",
              "  color: var(--sklearn-color-unfitted-level-1);\n",
              "}\n",
              "\n",
              ".sk-estimator-doc-link.fitted,\n",
              "a:link.sk-estimator-doc-link.fitted,\n",
              "a:visited.sk-estimator-doc-link.fitted {\n",
              "  /* fitted */\n",
              "  border: var(--sklearn-color-fitted-level-1) 1pt solid;\n",
              "  color: var(--sklearn-color-fitted-level-1);\n",
              "}\n",
              "\n",
              "/* On hover */\n",
              "div.sk-estimator:hover .sk-estimator-doc-link:hover,\n",
              ".sk-estimator-doc-link:hover,\n",
              "div.sk-label-container:hover .sk-estimator-doc-link:hover,\n",
              ".sk-estimator-doc-link:hover {\n",
              "  /* unfitted */\n",
              "  background-color: var(--sklearn-color-unfitted-level-3);\n",
              "  color: var(--sklearn-color-background);\n",
              "  text-decoration: none;\n",
              "}\n",
              "\n",
              "div.sk-estimator.fitted:hover .sk-estimator-doc-link.fitted:hover,\n",
              ".sk-estimator-doc-link.fitted:hover,\n",
              "div.sk-label-container:hover .sk-estimator-doc-link.fitted:hover,\n",
              ".sk-estimator-doc-link.fitted:hover {\n",
              "  /* fitted */\n",
              "  background-color: var(--sklearn-color-fitted-level-3);\n",
              "  color: var(--sklearn-color-background);\n",
              "  text-decoration: none;\n",
              "}\n",
              "\n",
              "/* Span, style for the box shown on hovering the info icon */\n",
              ".sk-estimator-doc-link span {\n",
              "  display: none;\n",
              "  z-index: 9999;\n",
              "  position: relative;\n",
              "  font-weight: normal;\n",
              "  right: .2ex;\n",
              "  padding: .5ex;\n",
              "  margin: .5ex;\n",
              "  width: min-content;\n",
              "  min-width: 20ex;\n",
              "  max-width: 50ex;\n",
              "  color: var(--sklearn-color-text);\n",
              "  box-shadow: 2pt 2pt 4pt #999;\n",
              "  /* unfitted */\n",
              "  background: var(--sklearn-color-unfitted-level-0);\n",
              "  border: .5pt solid var(--sklearn-color-unfitted-level-3);\n",
              "}\n",
              "\n",
              ".sk-estimator-doc-link.fitted span {\n",
              "  /* fitted */\n",
              "  background: var(--sklearn-color-fitted-level-0);\n",
              "  border: var(--sklearn-color-fitted-level-3);\n",
              "}\n",
              "\n",
              ".sk-estimator-doc-link:hover span {\n",
              "  display: block;\n",
              "}\n",
              "\n",
              "/* \"?\"-specific style due to the `<a>` HTML tag */\n",
              "\n",
              "#sk-container-id-1 a.estimator_doc_link {\n",
              "  float: right;\n",
              "  font-size: 1rem;\n",
              "  line-height: 1em;\n",
              "  font-family: monospace;\n",
              "  background-color: var(--sklearn-color-background);\n",
              "  border-radius: 1rem;\n",
              "  height: 1rem;\n",
              "  width: 1rem;\n",
              "  text-decoration: none;\n",
              "  /* unfitted */\n",
              "  color: var(--sklearn-color-unfitted-level-1);\n",
              "  border: var(--sklearn-color-unfitted-level-1) 1pt solid;\n",
              "}\n",
              "\n",
              "#sk-container-id-1 a.estimator_doc_link.fitted {\n",
              "  /* fitted */\n",
              "  border: var(--sklearn-color-fitted-level-1) 1pt solid;\n",
              "  color: var(--sklearn-color-fitted-level-1);\n",
              "}\n",
              "\n",
              "/* On hover */\n",
              "#sk-container-id-1 a.estimator_doc_link:hover {\n",
              "  /* unfitted */\n",
              "  background-color: var(--sklearn-color-unfitted-level-3);\n",
              "  color: var(--sklearn-color-background);\n",
              "  text-decoration: none;\n",
              "}\n",
              "\n",
              "#sk-container-id-1 a.estimator_doc_link.fitted:hover {\n",
              "  /* fitted */\n",
              "  background-color: var(--sklearn-color-fitted-level-3);\n",
              "}\n",
              "</style><div id=\"sk-container-id-1\" class=\"sk-top-container\"><div class=\"sk-text-repr-fallback\"><pre>LinearRegression()</pre><b>In a Jupyter environment, please rerun this cell to show the HTML representation or trust the notebook. <br />On GitHub, the HTML representation is unable to render, please try loading this page with nbviewer.org.</b></div><div class=\"sk-container\" hidden><div class=\"sk-item\"><div class=\"sk-estimator fitted sk-toggleable\"><input class=\"sk-toggleable__control sk-hidden--visually\" id=\"sk-estimator-id-1\" type=\"checkbox\" checked><label for=\"sk-estimator-id-1\" class=\"sk-toggleable__label fitted sk-toggleable__label-arrow fitted\">&nbsp;&nbsp;LinearRegression<a class=\"sk-estimator-doc-link fitted\" rel=\"noreferrer\" target=\"_blank\" href=\"https://scikit-learn.org/1.4/modules/generated/sklearn.linear_model.LinearRegression.html\">?<span>Documentation for LinearRegression</span></a><span class=\"sk-estimator-doc-link fitted\">i<span>Fitted</span></span></label><div class=\"sk-toggleable__content fitted\"><pre>LinearRegression()</pre></div> </div></div></div></div>"
            ],
            "text/plain": [
              "LinearRegression()"
            ]
          },
          "execution_count": 14,
          "metadata": {},
          "output_type": "execute_result"
        }
      ],
      "source": [
        "model.fit(X_train,Y_train)"
      ]
    },
    {
      "cell_type": "code",
      "execution_count": 15,
      "metadata": {
        "colab": {
          "base_uri": "https://localhost:8080/"
        },
        "id": "KgkxmkZQn_RC",
        "outputId": "b48dfc5e-d448-419a-d1a3-0c23434811c8"
      },
      "outputs": [
        {
          "data": {
            "text/plain": [
              "array([[24.85665102],\n",
              "       [16.97086553],\n",
              "       [17.4144398 ],\n",
              "       [20.88467915],\n",
              "       [17.26605202],\n",
              "       [18.82887474],\n",
              "       [21.78564359],\n",
              "       [22.67809113],\n",
              "       [19.47230535],\n",
              "       [16.81591475],\n",
              "       [31.26446419],\n",
              "       [18.0097382 ],\n",
              "       [26.41981935],\n",
              "       [29.79452171],\n",
              "       [16.36977959],\n",
              "       [13.94219063],\n",
              "       [22.10901687],\n",
              "       [15.52441467],\n",
              "       [24.0402072 ],\n",
              "       [25.13162996],\n",
              "       [27.61207202],\n",
              "       [28.0914571 ],\n",
              "       [18.94513212],\n",
              "       [15.79655079],\n",
              "       [18.23145773],\n",
              "       [26.10996729],\n",
              "       [30.81609912],\n",
              "       [16.40654967],\n",
              "       [19.3425763 ]])"
            ]
          },
          "execution_count": 15,
          "metadata": {},
          "output_type": "execute_result"
        }
      ],
      "source": [
        "y_pred = model.predict(X_test)\n",
        "y_pred"
      ]
    },
    {
      "cell_type": "code",
      "execution_count": 16,
      "metadata": {
        "colab": {
          "base_uri": "https://localhost:8080/"
        },
        "id": "qQT_YS6RoLON",
        "outputId": "5fabe668-013d-41f0-9cea-9221967ad870"
      },
      "outputs": [
        {
          "data": {
            "text/plain": [
              "array([[15.91304348],\n",
              "       [18.5       ],\n",
              "       [17.11111111],\n",
              "       [18.7       ],\n",
              "       [18.38888889],\n",
              "       [19.31818182],\n",
              "       [14.70833333],\n",
              "       [15.68421053],\n",
              "       [14.57142857],\n",
              "       [12.11111111],\n",
              "       [11.        ],\n",
              "       [11.78947368],\n",
              "       [13.23529412],\n",
              "       [13.2       ],\n",
              "       [16.43478261],\n",
              "       [14.65      ],\n",
              "       [11.72222222],\n",
              "       [13.04166667],\n",
              "       [14.61904762],\n",
              "       [15.26315789],\n",
              "       [15.39130435],\n",
              "       [18.44      ],\n",
              "       [18.11764706],\n",
              "       [18.34782609],\n",
              "       [21.        ],\n",
              "       [16.17857143],\n",
              "       [16.5       ],\n",
              "       [14.86363636],\n",
              "       [15.66666667],\n",
              "       [16.44444444],\n",
              "       [16.125     ],\n",
              "       [15.25      ],\n",
              "       [17.09090909],\n",
              "       [15.63636364],\n",
              "       [18.7       ],\n",
              "       [18.63157895],\n",
              "       [16.88888889],\n",
              "       [15.125     ],\n",
              "       [15.7       ],\n",
              "       [15.375     ],\n",
              "       [14.66666667],\n",
              "       [15.625     ],\n",
              "       [16.25      ],\n",
              "       [16.33333333],\n",
              "       [16.875     ],\n",
              "       [17.57142857],\n",
              "       [20.25      ],\n",
              "       [21.3       ],\n",
              "       [21.125     ],\n",
              "       [22.36363636],\n",
              "       [23.375     ],\n",
              "       [21.83333333],\n",
              "       [19.125     ],\n",
              "       [18.625     ],\n",
              "       [19.125     ],\n",
              "       [19.        ],\n",
              "       [18.75      ],\n",
              "       [19.875     ],\n",
              "       [23.33333333],\n",
              "       [24.46153846],\n",
              "       [23.75      ],\n",
              "       [20.5       ],\n",
              "       [19.125     ],\n",
              "       [19.75      ],\n",
              "       [20.        ],\n",
              "       [22.625     ],\n",
              "       [21.54545455],\n",
              "       [20.78571429],\n",
              "       [19.9375    ],\n",
              "       [18.53333333],\n",
              "       [17.375     ],\n",
              "       [17.44444444],\n",
              "       [18.        ],\n",
              "       [19.875     ],\n",
              "       [24.        ],\n",
              "       [20.9       ],\n",
              "       [24.69230769],\n",
              "       [24.66666667],\n",
              "       [23.33333333],\n",
              "       [25.        ],\n",
              "       [27.25      ],\n",
              "       [28.        ],\n",
              "       [28.91666667],\n",
              "       [26.5       ],\n",
              "       [29.1       ],\n",
              "       [29.5       ],\n",
              "       [29.88888889],\n",
              "       [31.        ],\n",
              "       [29.28571429],\n",
              "       [30.625     ],\n",
              "       [31.375     ],\n",
              "       [29.75      ],\n",
              "       [30.5       ],\n",
              "       [30.93333333],\n",
              "       [29.23076923],\n",
              "       [31.22222222],\n",
              "       [27.        ],\n",
              "       [25.625     ],\n",
              "       [27.125     ],\n",
              "       [27.85714286],\n",
              "       [29.25      ],\n",
              "       [29.25      ],\n",
              "       [29.66666667],\n",
              "       [30.5       ],\n",
              "       [31.22222222],\n",
              "       [31.        ],\n",
              "       [32.55555556],\n",
              "       [34.        ],\n",
              "       [33.5       ],\n",
              "       [34.5       ],\n",
              "       [34.25      ],\n",
              "       [32.9       ],\n",
              "       [32.875     ],\n",
              "       [32.        ]])"
            ]
          },
          "execution_count": 16,
          "metadata": {},
          "output_type": "execute_result"
        }
      ],
      "source": [
        "y"
      ]
    },
    {
      "cell_type": "markdown",
      "metadata": {},
      "source": [
        "**Determining the Mean Squared Error and Mean Absolute Error**"
      ]
    },
    {
      "cell_type": "code",
      "execution_count": 17,
      "metadata": {},
      "outputs": [
        {
          "name": "stdout",
          "output_type": "stream",
          "text": [
            "Mean Absolute Error: 2.8805072785949672\n",
            "Mean Squared Error: 11.535657907003579\n",
            "Root Mean Squared Error: 3.396418393985579\n"
          ]
        }
      ],
      "source": [
        "from sklearn.metrics import mean_absolute_error, mean_squared_error\n",
        "import numpy as np\n",
        "\n",
        "mae = mean_absolute_error(Y_test,y_pred)\n",
        "mse = mean_squared_error(Y_test,y_pred)\n",
        "rmse = np.sqrt(mse)\n",
        "print(f\"Mean Absolute Error: {mae}\")\n",
        "print(f\"Mean Squared Error: {mse}\")\n",
        "print(f\"Root Mean Squared Error: {rmse}\")"
      ]
    },
    {
      "cell_type": "markdown",
      "metadata": {},
      "source": [
        "**Manually Predicting the value**"
      ]
    },
    {
      "cell_type": "code",
      "execution_count": 23,
      "metadata": {
        "colab": {
          "base_uri": "https://localhost:8080/"
        },
        "id": "Rb-q6M64oP77",
        "outputId": "9f3b8386-6b25-449c-cb70-4bbb67235958"
      },
      "outputs": [
        {
          "name": "stdout",
          "output_type": "stream",
          "text": [
            "[[37.86239069]]\n"
          ]
        }
      ],
      "source": [
        "\n",
        "predicted_value1 = model.predict([[1,2]])\n",
        "\n",
        "print(predicted_value1)"
      ]
    },
    {
      "cell_type": "code",
      "execution_count": 39,
      "metadata": {
        "colab": {
          "base_uri": "https://localhost:8080/",
          "height": 469
        },
        "id": "SucZaRBBqq-e",
        "outputId": "9597fa47-4d5d-4ac3-f834-e3723ac9ad52"
      },
      "outputs": [
        {
          "data": {
            "text/plain": [
              "Text(0.5, 1.0, 'BEST FIT LINE')"
            ]
          },
          "execution_count": 39,
          "metadata": {},
          "output_type": "execute_result"
        },
        {
          "data": {
            "image/png": "[encoded data removed]",
            "text/plain": [
              "<Figure size 640x480 with 1 Axes>"
            ]
          },
          "metadata": {},
          "output_type": "display_data"
        }
      ],
      "source": [
        "plt.scatter(x,y)\n",
        "plt.plot(x,y,color = 'orange')\n",
        "plt.title('BEST FIT LINE')"
      ]
    }
  ],
  "metadata": {
    "colab": {
      "provenance": []
    },
    "kernelspec": {
      "display_name": "Python 3",
      "name": "python3"
    },
    "language_info": {
      "codemirror_mode": {
        "name": "ipython",
        "version": 3
      },
      "file_extension": ".py",
      "mimetype": "text/x-python",
      "name": "python",
      "nbconvert_exporter": "python",
      "pygments_lexer": "ipython3",
      "version": "3.11.0"
    }
  },
  "nbformat": 4,
  "nbformat_minor": 0
}
